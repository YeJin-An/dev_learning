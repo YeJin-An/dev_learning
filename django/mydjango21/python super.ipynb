{
 "cells": [
  {
   "cell_type": "markdown",
   "id": "e30687c7",
   "metadata": {},
   "source": [
    "## python of super\n",
    "\n",
    "슈퍼(부모)클래스의 임시 object를 return 한다.\n",
    "이 임시 objects로 슈퍼 클래스의 메소드를 사용할 수 있음"
   ]
  },
  {
   "cell_type": "markdown",
   "id": "12e034fb",
   "metadata": {},
   "source": [
    "1> 상속 전"
   ]
  },
  {
   "cell_type": "code",
   "execution_count": 6,
   "id": "363525de",
   "metadata": {},
   "outputs": [],
   "source": [
    "class Rectangle:\n",
    "    def __init__(self, length, width):\n",
    "        self.length = length\n",
    "        self.width = width\n",
    "    def area(self):\n",
    "        return self.length * self.width\n",
    "    def perimeter(self):\n",
    "        return 2 * self.length + 2 * self.width\n"
   ]
  },
  {
   "cell_type": "code",
   "execution_count": 7,
   "id": "b9fb35d8",
   "metadata": {},
   "outputs": [],
   "source": [
    "rectangle = Rectangle(2,4)"
   ]
  },
  {
   "cell_type": "code",
   "execution_count": 8,
   "id": "a5fda01f",
   "metadata": {},
   "outputs": [
    {
     "name": "stdout",
     "output_type": "stream",
     "text": [
      "8\n"
     ]
    }
   ],
   "source": [
    "print(rectangle.area())"
   ]
  },
  {
   "cell_type": "markdown",
   "id": "44ffe27f",
   "metadata": {},
   "source": [
    "2> 상속 후"
   ]
  },
  {
   "cell_type": "code",
   "execution_count": 17,
   "id": "c7b9e3de",
   "metadata": {},
   "outputs": [],
   "source": [
    "class Rectangle:\n",
    "    def __init__(self, length, width):\n",
    "        self.length = length\n",
    "        self.width = width\n",
    "    def area(self):\n",
    "        return self.length * self.width\n",
    "    def perimeter(self):\n",
    "        return 2 * self.length + 2 * self.width\n",
    "    \n",
    "class Square(Rectangle):\n",
    "    def __init__(self,length):\n",
    "        super().__init__(length, length)"
   ]
  },
  {
   "cell_type": "code",
   "execution_count": 18,
   "id": "c8fa5ed3",
   "metadata": {},
   "outputs": [
    {
     "name": "stdout",
     "output_type": "stream",
     "text": [
      "16 16\n"
     ]
    }
   ],
   "source": [
    "square = Square(4)\n",
    "print(square.area(), square.perimeter())"
   ]
  },
  {
   "cell_type": "code",
   "execution_count": 14,
   "id": "cf18bc50",
   "metadata": {},
   "outputs": [
    {
     "name": "stdout",
     "output_type": "stream",
     "text": [
      "8\n"
     ]
    }
   ],
   "source": [
    "rectangle = Rectangle(2,4)\n",
    "print(rectangle.area())"
   ]
  },
  {
   "cell_type": "markdown",
   "id": "e15056f8",
   "metadata": {},
   "source": [
    "super() VS super(클래스 이름, self)"
   ]
  },
  {
   "cell_type": "markdown",
   "id": "48d2c8de",
   "metadata": {},
   "source": [
    "1. super() == super(Squre,self).__init__( )\n",
    "\n",
    "2. super\n",
    "1> 두개의 파라미터를 받고 (1) 하위클래스 이름 (2) 하위클래스의 object\n",
    "2> 다중 상속이나 할머니 상속에 따라 다르고,\n",
    "   첫 번째 매개변수의 클래스 이름에 따라 super가 탐색하는 범위가 달라진다"
   ]
  },
  {
   "cell_type": "code",
   "execution_count": 20,
   "id": "ab01d952",
   "metadata": {},
   "outputs": [],
   "source": [
    "class Cube(Square):\n",
    "    def surface_area(self):\n",
    "        face_area = super(Square, self).area()\n",
    "        return face_area * 6\n",
    "    \n",
    "    def volume(self):\n",
    "        face_area = super().area()\n",
    "        return face_area * self.length"
   ]
  },
  {
   "cell_type": "code",
   "execution_count": 21,
   "id": "0841c13f",
   "metadata": {},
   "outputs": [],
   "source": [
    "# Square를 명시한 super는 Square의 부모로 부터 탐색이 시작된다."
   ]
  },
  {
   "cell_type": "code",
   "execution_count": null,
   "id": "c3ea58e7",
   "metadata": {},
   "outputs": [],
   "source": []
  },
  {
   "cell_type": "code",
   "execution_count": 24,
   "id": "fbf0e69f",
   "metadata": {},
   "outputs": [
    {
     "name": "stdout",
     "output_type": "stream",
     "text": [
      "fruit is apple\n",
      "color is red\n",
      "fruit is grapes\n",
      "color is green\n"
     ]
    }
   ],
   "source": [
    "class food():\n",
    "    def __init__(self, fruit, color):\n",
    "        self.fruit = fruit\n",
    "        self.color = color\n",
    "        \n",
    "    def show(self):\n",
    "        print(\"fruit is\", self.fruit)\n",
    "        print(\"color is\", self.color)\n",
    "    \n",
    "apple = food('apple', 'red')\n",
    "grapes = food('grapes','green')\n",
    "\n",
    "apple.show()\n",
    "grapes.show()"
   ]
  },
  {
   "cell_type": "code",
   "execution_count": null,
   "id": "444c2f34",
   "metadata": {},
   "outputs": [],
   "source": []
  }
 ],
 "metadata": {
  "kernelspec": {
   "display_name": "Python 3 (ipykernel)",
   "language": "python",
   "name": "python3"
  },
  "language_info": {
   "codemirror_mode": {
    "name": "ipython",
    "version": 3
   },
   "file_extension": ".py",
   "mimetype": "text/x-python",
   "name": "python",
   "nbconvert_exporter": "python",
   "pygments_lexer": "ipython3",
   "version": "3.10.1"
  }
 },
 "nbformat": 4,
 "nbformat_minor": 5
}
