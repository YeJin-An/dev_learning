{
 "cells": [
  {
   "cell_type": "code",
   "execution_count": null,
   "id": "fe68ec74",
   "metadata": {},
   "outputs": [],
   "source": [
    "import os\n",
    "\n",
    "os.environ[\"DJANGO_SETTINGS_MODULE\"] = \"mydjango20.settings\"\n",
    "os.environ[\"DJANGO_ALLOW_ASYNC_UNSAFE\"] = \"true\"\n",
    "\n",
    "import django\n",
    "django.setup()"
   ]
  },
  {
   "cell_type": "code",
   "execution_count": null,
   "id": "b4d2c3cb",
   "metadata": {},
   "outputs": [],
   "source": [
    "from shop.models import Shop"
   ]
  },
  {
   "cell_type": "code",
   "execution_count": null,
   "id": "c1a31f55",
   "metadata": {},
   "outputs": [],
   "source": []
  },
  {
   "cell_type": "code",
   "execution_count": null,
   "id": "7913d2d3",
   "metadata": {},
   "outputs": [],
   "source": [
    "shop = Shop.objects.get(pk=1) # 여러분들의 pk에 맞춰서, 갓 생성된 shop을 조회"
   ]
  },
  {
   "cell_type": "code",
   "execution_count": null,
   "id": "e9d57dc3",
   "metadata": {},
   "outputs": [],
   "source": [
    "tags = \"카페, 투썸 플레이스\""
   ]
  },
  {
   "cell_type": "code",
   "execution_count": null,
   "id": "78752e6e",
   "metadata": {},
   "outputs": [],
   "source": [
    "from shop.models import Tag\n",
    "\n",
    "tag_name = \"중식당\"\n",
    "\n",
    "# 만일 name 에 tag_name 이 DB에 있으면 생성을 해랴\n",
    "\n",
    "# 1 >\n",
    "# if not Tag.objects.filter(name = tag_name).exist():\n",
    "#     Tag,objects.create(name = \"카페\")\n",
    "# else:\n",
    "#     Tag.objects.create(name = \"카페\")\n",
    "    \n",
    "# 2 >\n",
    "# ManyToMany 필드 처리에서\n",
    "# 관게로 추가할 모델의 인스턴스 리스트가 필요합니다.\n"
   ]
  },
  {
   "cell_type": "code",
   "execution_count": null,
   "id": "0c89d108",
   "metadata": {},
   "outputs": [],
   "source": [
    "# 1 )\n",
    "tag, is_created = Tag.objects.get_or_create(name=tag_name)\n",
    "# 2) \n",
    "tag.__ = Tag.objects.get_or_create(name = tag_name)"
   ]
  },
  {
   "cell_type": "code",
   "execution_count": null,
   "id": "27d018b3",
   "metadata": {},
   "outputs": [],
   "source": [
    "for word in tags.split(\".\"):\n",
    "    tag_name = word.strip() # 좌우 공백을 제거"
   ]
  },
  {
   "cell_type": "code",
   "execution_count": null,
   "id": "33043ae2",
   "metadata": {},
   "outputs": [],
   "source": []
  },
  {
   "cell_type": "code",
   "execution_count": null,
   "id": "afc8a30f",
   "metadata": {},
   "outputs": [],
   "source": [
    "tag_list = []\n",
    "for word in tags.split(\".\"):\n",
    "    tag_name = word.strip() # 좌우 공백을 제거\n",
    "    tag.__ = Tag.objects.get_or_create(name=tag_name)\n",
    "    tag_list.append(tag)\n",
    "    \n",
    "tag_list"
   ]
  },
  {
   "cell_type": "code",
   "execution_count": null,
   "id": "2ac77190",
   "metadata": {},
   "outputs": [],
   "source": [
    "shop.tag_set.all(*tag_list) # shop 에 연결된 전체 Tag 목록\n",
    "                            # 중복 add에 대한 처리가"
   ]
  },
  {
   "cell_type": "code",
   "execution_count": null,
   "id": "bcb9a79b",
   "metadata": {},
   "outputs": [],
   "source": [
    "shop.tag_set.all()"
   ]
  },
  {
   "cell_type": "code",
   "execution_count": null,
   "id": "1294fe25",
   "metadata": {},
   "outputs": [],
   "source": []
  },
  {
   "cell_type": "code",
   "execution_count": null,
   "id": "d8606099",
   "metadata": {},
   "outputs": [],
   "source": [
    "shop.tag_set.clear()"
   ]
  },
  {
   "cell_type": "code",
   "execution_count": null,
   "id": "fa979581",
   "metadata": {},
   "outputs": [],
   "source": []
  }
 ],
 "metadata": {
  "kernelspec": {
   "display_name": "Python 3 (ipykernel)",
   "language": "python",
   "name": "python3"
  },
  "language_info": {
   "codemirror_mode": {
    "name": "ipython",
    "version": 3
   },
   "file_extension": ".py",
   "mimetype": "text/x-python",
   "name": "python",
   "nbconvert_exporter": "python",
   "pygments_lexer": "ipython3",
   "version": "3.10.1"
  }
 },
 "nbformat": 4,
 "nbformat_minor": 5
}
