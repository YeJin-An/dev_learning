{
 "cells": [
  {
   "cell_type": "code",
   "execution_count": null,
   "id": "0d52e821",
   "metadata": {},
   "outputs": [],
   "source": [
    "import os\n",
    "\n",
    "os.environ[\"DJANGO_SETTINGS_MODULE\"] = \"mydjango23.settings\"\n",
    "os.environ[\"DJANGO_ALLOW_ASYNC_UNSAFE\"] = \"true\"\n",
    "\n",
    "import django\n",
    "django.setup()"
   ]
  },
  {
   "cell_type": "code",
   "execution_count": null,
   "id": "4d37e652",
   "metadata": {},
   "outputs": [],
   "source": [
    "from blog.models import Post"
   ]
  },
  {
   "cell_type": "code",
   "execution_count": null,
   "id": "147f8820",
   "metadata": {},
   "outputs": [],
   "source": [
    "import tablib\n",
    "\n",
    "dateset = tablib.Dataset()\n",
    "dateset.headers = [\"id\",\"title\",\"created_at\",\"updated_at\"]\n",
    "dateset"
   ]
  },
  {
   "cell_type": "code",
   "execution_count": null,
   "id": "f8e95ed6",
   "metadata": {},
   "outputs": [],
   "source": [
    "for post in Post.objects.all():\n",
    "    dateset.append([\n",
    "        post.id,\n",
    "        post.title,\n",
    "        # tzinfo가 있는 datetime 객체는 tablib에서 반환이 현재 지원되지 않아\n",
    "        # 문자열로 변환을 하겠습니다.\n",
    "        post.created_at.strftime('%Y-%m-%d %H:%M:%S'),\n",
    "        post.updated_at.strftime('%Y-%m-%d %H:%M:%S'),\n",
    "        ])"
   ]
  },
  {
   "cell_type": "code",
   "execution_count": null,
   "id": "80288ba4",
   "metadata": {},
   "outputs": [],
   "source": [
    "xlsx_date: bytes = dateset.export('xlsx')\n",
    "    \n",
    "# wb : write (새롭게 생성), binary (bytes 타입을 쓴다)\n",
    "with open(\"c:/love/포스팅 내역.xlsx\", \"wb\")as f:\n",
    "    f.write(xlsx_data)"
   ]
  },
  {
   "cell_type": "code",
   "execution_count": null,
   "id": "a3c92d16",
   "metadata": {},
   "outputs": [],
   "source": []
  }
 ],
 "metadata": {
  "kernelspec": {
   "display_name": "Python 3 (ipykernel)",
   "language": "python",
   "name": "python3"
  },
  "language_info": {
   "codemirror_mode": {
    "name": "ipython",
    "version": 3
   },
   "file_extension": ".py",
   "mimetype": "text/x-python",
   "name": "python",
   "nbconvert_exporter": "python",
   "pygments_lexer": "ipython3",
   "version": "3.10.1"
  }
 },
 "nbformat": 4,
 "nbformat_minor": 5
}
