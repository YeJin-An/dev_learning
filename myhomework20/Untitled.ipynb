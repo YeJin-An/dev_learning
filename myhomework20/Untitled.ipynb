{
 "cells": [
  {
   "cell_type": "code",
   "execution_count": null,
   "id": "23250ad3",
   "metadata": {},
   "outputs": [],
   "source": [
    "import os\n",
    "\n",
    "os.environ[\"DJANGO_SETTINGS_MODULE\"] = \"myhomework.settings\"\n",
    "os.environ[\"DJANGO_ALLOW_ASYNC_UNSAFE\"] = \"true\"\n",
    "\n",
    "import django\n",
    "django.setup()"
   ]
  },
  {
   "cell_type": "code",
   "execution_count": null,
   "id": "a3e55259",
   "metadata": {},
   "outputs": [],
   "source": [
    "from diary.models import Post,Comment, Tag"
   ]
  },
  {
   "cell_type": "code",
   "execution_count": null,
   "id": "47e1a27c",
   "metadata": {},
   "outputs": [],
   "source": []
  },
  {
   "cell_type": "code",
   "execution_count": null,
   "id": "a37146c7",
   "metadata": {},
   "outputs": [],
   "source": [
    "Post.objects.all()"
   ]
  },
  {
   "cell_type": "code",
   "execution_count": null,
   "id": "6e4ffe01",
   "metadata": {},
   "outputs": [],
   "source": [
    "Comment.objects.all()"
   ]
  },
  {
   "cell_type": "code",
   "execution_count": null,
   "id": "06cd135c",
   "metadata": {},
   "outputs": [],
   "source": [
    "Tag.objects.all()"
   ]
  },
  {
   "cell_type": "code",
   "execution_count": null,
   "id": "a227e846",
   "metadata": {},
   "outputs": [],
   "source": []
  },
  {
   "cell_type": "code",
   "execution_count": null,
   "id": "7eba0fc1",
   "metadata": {},
   "outputs": [],
   "source": [
    "post = Post.objects.get(pk=1)\n",
    "post"
   ]
  },
  {
   "cell_type": "code",
   "execution_count": null,
   "id": "317479cb",
   "metadata": {},
   "outputs": [],
   "source": [
    "# 1\n",
    "comment = Comment.objects.all()\n",
    "comment.count()\n",
    "\n",
    "#2\n",
    "comment = Comment.objects.all()\n",
    "comment = comment.filter(post=post)\n",
    "comment = count()\n",
    "\n",
    "#3\n",
    "comment = Comment.objects.get(pk=1)\n",
    "comment.post # 같음\n",
    "Post.objects.get(pk = 2) # 같음"
   ]
  },
  {
   "cell_type": "code",
   "execution_count": null,
   "id": "e4216e62",
   "metadata": {},
   "outputs": [],
   "source": []
  },
  {
   "cell_type": "code",
   "execution_count": null,
   "id": "bfc04391",
   "metadata": {},
   "outputs": [],
   "source": [
    "# 두개 모두 같음\n",
    "comment_list = Comment.objects.all().filter(post=post)\n",
    "post.comment_set.all()"
   ]
  },
  {
   "cell_type": "code",
   "execution_count": 1,
   "id": "8d916ca4",
   "metadata": {},
   "outputs": [
    {
     "ename": "NameError",
     "evalue": "name 'post' is not defined",
     "output_type": "error",
     "traceback": [
      "\u001b[1;31m---------------------------------------------------------------------------\u001b[0m",
      "\u001b[1;31mNameError\u001b[0m                                 Traceback (most recent call last)",
      "\u001b[1;32m~\\AppData\\Local\\Temp/ipykernel_10520/244633962.py\u001b[0m in \u001b[0;36m<module>\u001b[1;34m\u001b[0m\n\u001b[1;32m----> 1\u001b[1;33m \u001b[0mpost\u001b[0m\u001b[1;33m.\u001b[0m\u001b[0mtag_set\u001b[0m\u001b[1;33m.\u001b[0m\u001b[0mall\u001b[0m\u001b[1;33m(\u001b[0m\u001b[1;33m)\u001b[0m\u001b[1;33m\u001b[0m\u001b[1;33m\u001b[0m\u001b[0m\n\u001b[0m",
      "\u001b[1;31mNameError\u001b[0m: name 'post' is not defined"
     ]
    }
   ],
   "source": [
    "post.tag_set.all()"
   ]
  },
  {
   "cell_type": "code",
   "execution_count": null,
   "id": "03b0678d",
   "metadata": {},
   "outputs": [],
   "source": []
  },
  {
   "cell_type": "code",
   "execution_count": null,
   "id": "60995819",
   "metadata": {},
   "outputs": [],
   "source": [
    "queryset = Post.objects.all()\n",
    "queryset = queryset.filter()"
   ]
  }
 ],
 "metadata": {
  "kernelspec": {
   "display_name": "Python 3 (ipykernel)",
   "language": "python",
   "name": "python3"
  },
  "language_info": {
   "codemirror_mode": {
    "name": "ipython",
    "version": 3
   },
   "file_extension": ".py",
   "mimetype": "text/x-python",
   "name": "python",
   "nbconvert_exporter": "python",
   "pygments_lexer": "ipython3",
   "version": "3.10.0"
  }
 },
 "nbformat": 4,
 "nbformat_minor": 5
}
